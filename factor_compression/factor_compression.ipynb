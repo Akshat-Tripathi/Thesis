{
 "cells": [
  {
   "cell_type": "code",
   "execution_count": 2,
   "metadata": {},
   "outputs": [],
   "source": [
    "import matplotlib.pyplot as plt\n",
    "from matplotlib.patches import Ellipse\n",
    "import numpy as np\n",
    "from sklearn.cluster import AffinityPropagation\n",
    "import matplotlib.transforms as transforms\n"
   ]
  },
  {
   "cell_type": "code",
   "execution_count": 3,
   "metadata": {},
   "outputs": [],
   "source": [
    "def gen_covariance_2d(eigvals, principal: np.ndarray):\n",
    "    v1 = principal.reshape((2, 1))\n",
    "    v2 = np.array([[-v1[1, 0]], [v1[0, 0]]])\n",
    "\n",
    "    P = np.hstack((v1, v2))\n",
    "    D = np.diag(eigvals)\n",
    "    return np.dot(P, np.dot(D, np.linalg.inv(P)))"
   ]
  },
  {
   "cell_type": "code",
   "execution_count": 4,
   "metadata": {},
   "outputs": [],
   "source": [
    "class Sensor:\n",
    "    def __init__(self, noise_model):\n",
    "        self.noise = noise_model\n",
    "    \n",
    "    def measure(self, point):\n",
    "        measurement = np.random.multivariate_normal(point, self.noise, check_valid=\"raise\")\n",
    "        return (measurement, self.noise)\n",
    "\n",
    "class BiasedSensor(Sensor):\n",
    "    def __init__(self, noise_model, bias):\n",
    "        super(BiasedSensor, self).__init__(noise_model)\n",
    "        self.bias = np.array(bias)\n",
    "\n",
    "    def measure(self, point):\n",
    "        new_point = np.array(point) + self.bias\n",
    "        return super().measure(new_point)"
   ]
  },
  {
   "cell_type": "code",
   "execution_count": 5,
   "metadata": {},
   "outputs": [],
   "source": [
    "import itertools\n",
    "\n",
    "class Agent: # 2d Agent that can only sense\n",
    "    id_iter = itertools.count()\n",
    "\n",
    "    def __init__(self, sensors):\n",
    "        self.sensors = sensors\n",
    "        self.id = next(self.id_iter)\n",
    "\n",
    "    def measure(self, point):\n",
    "        return [sensor.measure(point) for sensor in self.sensors]\n",
    "\n",
    "class BiasedAgent(Agent):\n",
    "    def __init__(self, sensors, bias):\n",
    "        super(BiasedAgent, self).__init__(sensors)\n",
    "        self.bias = np.array(bias)\n",
    "    \n",
    "    def measure(self, point):\n",
    "        return [(m + self.bias, n) for (m, n) in super().measure(point)]\n",
    "\n",
    "class OverconfidenceAttacker(BiasedAgent):\n",
    "    def __init__(self, sensors, overconfidence, bias):\n",
    "        super(OverconfidenceAttacker, self).__init__(sensors, bias)\n",
    "        self.overconfidence = overconfidence\n",
    "\n",
    "    def measure(self, point):\n",
    "        return [(m + self.bias, self.overconfidence) for (m, _) in super().measure(point)]\n",
    "\n",
    "class PhantomAttacker(Agent):\n",
    "    def __init__(self, agents):\n",
    "        self.id = next(Agent.id_iter)\n",
    "        self.agents = agents\n",
    "\n",
    "    def measure(self, point):\n",
    "        return list(itertools.chain(*[agent.measure(point) for agent in self.agents]))"
   ]
  },
  {
   "cell_type": "code",
   "execution_count": 6,
   "metadata": {},
   "outputs": [],
   "source": [
    "def gen_data(gt, agents):\n",
    "    ids = []\n",
    "    measurements = []\n",
    "    noises = []\n",
    "    for agent in agents:\n",
    "        for (measurement, noise) in agent.measure(gt):\n",
    "            measurements.append(measurement)\n",
    "            noises.append(noise)\n",
    "            ids.append(agent.id)\n",
    "    return np.array(measurements), np.array(ids), np.array(noises)"
   ]
  },
  {
   "cell_type": "code",
   "execution_count": 7,
   "metadata": {},
   "outputs": [],
   "source": [
    "def naive_cluster_to_gaussian(measurements, variances, labels): # Naive because we don't consider the covariance matrices\n",
    "    clusters = []\n",
    "    for label in np.unique(labels):\n",
    "        idxs = np.where(labels == label)\n",
    "        measurement_subset = measurements[idxs]\n",
    "        variance_subset = variances[idxs]\n",
    "        if len(measurement_subset) == 1:\n",
    "            clusters.append((measurement_subset[0], variance_subset[0]))\n",
    "        else:\n",
    "            clusters.append((np.mean(measurement_subset, axis=0), np.cov(measurement_subset, rowvar=False)))\n",
    "    return clusters"
   ]
  },
  {
   "cell_type": "code",
   "execution_count": 8,
   "metadata": {},
   "outputs": [],
   "source": [
    "def draw_ellipse(ax, mean, cov, n_std):\n",
    "    pearson = cov[0, 1]/np.sqrt(cov[0, 0] * cov[1, 1])\n",
    "    # Using a special case to obtain the eigenvalues of this\n",
    "    # two-dimensional dataset.\n",
    "    ell_radius_x = np.sqrt(1 + pearson)\n",
    "    ell_radius_y = np.sqrt(1 - pearson)\n",
    "\n",
    "    ellipse = Ellipse((0, 0), width=ell_radius_x * 2, height=ell_radius_y * 2)\n",
    "\n",
    "    # Calculating the standard deviation of x from\n",
    "    # the squareroot of the variance and multiplying\n",
    "    # with the given number of standard deviations.\n",
    "    scale_x = np.sqrt(cov[0, 0]) * n_std\n",
    "\n",
    "    # calculating the standard deviation of y ...\n",
    "    scale_y = np.sqrt(cov[1, 1]) * n_std\n",
    "\n",
    "    transf = transforms.Affine2D() \\\n",
    "        .rotate_deg(45) \\\n",
    "        .scale(scale_x, scale_y) \\\n",
    "        .translate(*mean)\n",
    "\n",
    "    ellipse.set_transform(transf + ax.transData)\n",
    "    return ellipse\n",
    "\n",
    "\n",
    "def plot_results(data, clusters):\n",
    "    fig = plt.figure()\n",
    "    ax = fig.add_subplot(1, 1, 1)\n",
    "\n",
    "    measurements, labels, noises = data\n",
    "\n",
    "    label_map = {label:i for (i, label) in enumerate(set(labels))}\n",
    "    plot_cmap = plt.cm.get_cmap(\"tab10\", len(label_map))\n",
    "    cmap = lambda x: plot_cmap(label_map[x])\n",
    "\n",
    "    fill_cmap = lambda x: \"red\" if x == 0 else \"blue\" if x == 1 else \"green\"\n",
    "\n",
    "    for (measurement, label, noise, c) in zip(measurements, labels, noises, clusters):\n",
    "        ellipse = draw_ellipse(ax, measurement, noise, 1)\n",
    "        ellipse.set_facecolor(fill_cmap(c))\n",
    "        ellipse.set_facecolor(\"none\")\n",
    "        ellipse.set_edgecolor(cmap(label))\n",
    "        ax.add_patch(ellipse)\n",
    "\n",
    "    cluster_summaries = naive_cluster_to_gaussian(measurements, noises, clusters)\n",
    "\n",
    "    for (centre, variance) in cluster_summaries:\n",
    "        for i in range(1, 4):\n",
    "            ellipse = draw_ellipse(ax, centre, variance, i)\n",
    "            ellipse.set_facecolor(\"red\")\n",
    "            ellipse.set_alpha(0.2)\n",
    "            ax.add_patch(ellipse)\n",
    "\n",
    "    plt.gca().set_aspect('equal', adjustable='datalim')\n",
    "    plt.scatter(measurements[:, 0], measurements[:, 1], marker=\"\")"
   ]
  },
  {
   "cell_type": "code",
   "execution_count": 9,
   "metadata": {},
   "outputs": [],
   "source": [
    "def compute_distance_matrix(data, dist_func):\n",
    "    matrix = np.zeros((len(data), len(data)))\n",
    "    for i in range(len(data)):\n",
    "        for j in range(i + 1, len(data)):\n",
    "            dist = dist_func(data[i], data[j])\n",
    "            matrix[i, j] = dist\n",
    "            matrix[j, i] = dist\n",
    "    return matrix\n",
    "\n",
    "euclidean = lambda x, y: np.linalg.norm(x[:2] - y[:2]) # Naive because it ignores the variances"
   ]
  },
  {
   "attachments": {},
   "cell_type": "markdown",
   "metadata": {},
   "source": [
    "# Limited Antifragility\n",
    "Sometimes attacks actually make the robot *more* robust to them.\n",
    "\n",
    "See the code below.\n",
    "\n",
    "I'm not sure if this is normal behaviour or a weird side effect of how I'm combining gaussians, measuring distances and the AffinityPropagation algorithm"
   ]
  },
  {
   "cell_type": "code",
   "execution_count": 59,
   "metadata": {},
   "outputs": [
    {
     "name": "stdout",
     "output_type": "stream",
     "text": [
      "[0 0 0 1 1 1 1 1 1 1 1 1 1 2 2 2 2 2 2 2 2 2 2]\n"
     ]
    },
    {
     "data": {
      "image/png": "[encoded data removed]",
      "text/plain": [
       "<Figure size 640x480 with 1 Axes>"
      ]
     },
     "metadata": {},
     "output_type": "display_data"
    }
   ],
   "source": [
    "default = Sensor(np.diag([0.05, 0.05]))\n",
    "\n",
    "data = gen_data((0, 0), [\n",
    "    Agent([default]),\n",
    "    Agent([default]),\n",
    "    Agent([default]),\n",
    "    PhantomAttacker([BiasedAgent([default], [0, 1]) for _ in range(10)]),\n",
    "    PhantomAttacker([BiasedAgent([default], [5, 0]) for _ in range(10)]),\n",
    "    # Uncomment the other 2 to stop this effect\n",
    "    # PhantomAttacker([BiasedAgent([default], [5, 1]) for _ in range(10)]),\n",
    "    # PhantomAttacker([BiasedAgent([default], [-5, 0]) for _ in range(10)]),\n",
    "])\n",
    "\n",
    "dist = compute_distance_matrix(data[0], euclidean)\n",
    "\n",
    "model = AffinityPropagation(affinity=\"precomputed\")\n",
    "\n",
    "model.fit(-dist)\n",
    "\n",
    "clusters = model.labels_\n",
    "print(clusters)\n",
    "\n",
    "plot_results(data, clusters)"
   ]
  },
  {
   "cell_type": "code",
   "execution_count": null,
   "metadata": {},
   "outputs": [],
   "source": [
    "default = Sensor(np.diag([0.05, 0.05]))\n",
    "\n",
    "data = gen_data((0, 0), [\n",
    "    Agent([default]),\n",
    "    Agent([default]),\n",
    "    Agent([default]),\n",
    "    PhantomAttacker([BiasedAgent([default], [0, 1]) for _ in range(10)]),\n",
    "    PhantomAttacker([BiasedAgent([default], [5, 0]) for _ in range(10)]),\n",
    "    # Uncomment the other 2 to stop this effect\n",
    "    # PhantomAttacker([BiasedAgent([default], [5, 1]) for _ in range(10)]),\n",
    "    # PhantomAttacker([BiasedAgent([default], [-5, 0]) for _ in range(10)]),\n",
    "])\n",
    "\n",
    "dist = compute_distance_matrix(data[0], euclidean)\n",
    "\n",
    "model = AffinityPropagation(affinity=\"precomputed\")\n",
    "\n",
    "model.fit(-dist)\n",
    "\n",
    "clusters = model.labels_\n",
    "print(clusters)\n",
    "\n",
    "plot_results(data, clusters)"
   ]
  }
 ],
 "metadata": {
  "kernelspec": {
   "display_name": "base",
   "language": "python",
   "name": "python3"
  },
  "language_info": {
   "codemirror_mode": {
    "name": "ipython",
    "version": 3
   },
   "file_extension": ".py",
   "mimetype": "text/x-python",
   "name": "python",
   "nbconvert_exporter": "python",
   "pygments_lexer": "ipython3",
   "version": "3.9.13"
  },
  "orig_nbformat": 4,
  "vscode": {
   "interpreter": {
    "hash": "42abb2d5de8b849a33fe2f08811bac689536198eaa89c300b97f442ee3015cc7"
   }
  }
 },
 "nbformat": 4,
 "nbformat_minor": 2
}
